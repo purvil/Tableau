{
 "cells": [
  {
   "cell_type": "markdown",
   "metadata": {},
   "source": [
    "* We see data in two categories.\n",
    "    - Dimension : Helps to categorize the data (Independent variable). It will add to graph as in by splitting them in categories. Categorical, qualitative and time data are listed as dimensions.\n",
    "    - Measure : helps to scale the category (dependent variable). Tableau will do some calculation and add it in graph based on selected dimension. Quantitative numerical data are listed as measure.\n",
    "* `#` symbol next to field means data is number.\n",
    "* Blue color is for discrete data and green is for the continuous data.\n",
    "* We can convert some discrete data like time/date to continuous. By right clicking on it.\n",
    "* To get more info about field right click and go to `Describe`\n",
    "* A dimension will be placed on a shelf as-is with Tableau splitting them into categories. With measures, Tableau will do a calculation automatically, and chart that based on any dimensions that were added.\n",
    "* Tableau automatically aggregates measures but not dimensions. Dimension is used to group data and set the level of granularity.\n",
    "* For example when we visualize two measure, it will be aggregated and we will see only one point. To increase the granularity meaning NOT aggregating over all the records but over something like categories.\n",
    "* Hierarchies is used to show sub category from category.  Yearly -> quarter -> monthly. Tableau automatically create hierarchy of time period from date and time data fields. To go down to get more fine levels click + , to go up press -.\n",
    "* Marks:\n",
    "    - We drag properties here to view it by color, size and shape.\n",
    "    - Adds more dimensions in graph.\n",
    "    Ex. shape, color, label, Detail,"
   ]
  },
  {
   "cell_type": "markdown",
   "metadata": {},
   "source": [
    "# Import data in tableau"
   ]
  },
  {
   "cell_type": "markdown",
   "metadata": {},
   "source": [
    "* Make sure we start our data from column 1(Excel file)\n",
    "* First row should have column header\n",
    "* Each column should contains same kind of data.\n",
    "* Each row should show 1 record.\n",
    "* Remove column or row total.\n",
    "* Using data interpreter we can handle these things automatically.\n",
    "### Importing Excel file\n",
    "* In Tableau public we can  import excel, text (csv), pdf, Access, statistical (Sas, R) files.\n",
    "* `Abc` icon represent string data\n",
    "* `Glob` icon represent geographical data Ex. city, state, zip code\n",
    "* `Calander` represents dates\n",
    "* `#` represents numerical data\n",
    "* Make sure Tableau has identify data type correctly, else change it to correct type.\n",
    "\n",
    "* Using OData (Open Data) we can connect to online database relational database, file system, content management system.\n",
    "* Web data connector, you can connect to any data which is available over http. Ex. internal web services, JSON, XML, REST API. We can combine data from multiple sources.\n",
    "\n",
    "#### Live connection\n",
    "* Tableau sends query to database and retrieve upto date data.\n",
    "* When we have slow connection or local database which is not getting updated use data extract."
   ]
  },
  {
   "cell_type": "markdown",
   "metadata": {},
   "source": [
    "### Control Chart\n",
    "* "
   ]
  },
  {
   "cell_type": "markdown",
   "metadata": {},
   "source": [
    "### Joining and combining Data sets"
   ]
  },
  {
   "cell_type": "markdown",
   "metadata": {},
   "source": [
    "* We need to combine multiple data source such as different files or sheets from excel.\n",
    "#### Union\n",
    "* Dragging file 1 below file 2 it will be union. Stacks data on top of each other. Works well when column match up.\n",
    "\n",
    "#### Join\n",
    "* Combines data based on common value"
   ]
  }
 ],
 "metadata": {
  "kernelspec": {
   "display_name": "Python 3",
   "language": "python",
   "name": "python3"
  },
  "language_info": {
   "codemirror_mode": {
    "name": "ipython",
    "version": 3
   },
   "file_extension": ".py",
   "mimetype": "text/x-python",
   "name": "python",
   "nbconvert_exporter": "python",
   "pygments_lexer": "ipython3",
   "version": "3.7.1"
  }
 },
 "nbformat": 4,
 "nbformat_minor": 2
}
